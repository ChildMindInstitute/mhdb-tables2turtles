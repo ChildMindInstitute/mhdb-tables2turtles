{
 "cells": [
  {
   "cell_type": "code",
   "execution_count": 121,
   "metadata": {
    "collapsed": true
   },
   "outputs": [],
   "source": [
    "import mhdb\n",
    "import pandas as pd"
   ]
  },
  {
   "cell_type": "code",
   "execution_count": 125,
   "metadata": {
    "collapsed": true
   },
   "outputs": [],
   "source": [
    "infile = \"/Users/jon.clucas/Downloads/core neutral behaviors (3).csv\"\n",
    "outfile = \"/Users/jon.clucas/Downloads/core neutral behaviors.ttl\"\n",
    "chart = pd.read_csv(infile, index_col=\"Id\")\n",
    "chart = chart.loc[chart[\"Name\"].isin([\"Entity\", \"Attribute\", \"Line\"])]"
   ]
  },
  {
   "cell_type": "code",
   "execution_count": 126,
   "metadata": {
    "collapsed": true
   },
   "outputs": [],
   "source": [
    "def rdfstring(label, superclasses, entity_type):\n",
    "    \n",
    "    rdf_string = \"\"\"\n",
    "### {0}\n",
    ":{1} rdf:type :{3} ;\n",
    "    rdfs:label \\\"{2}\\\" \"\"\".format(\n",
    "        label,\n",
    "        mhdb.spreadsheet_io.convert_string_to_label(label),\n",
    "        label,\n",
    "        \"owl:Class\"\n",
    "    )\n",
    "    for superclass in superclasses:\n",
    "        rdf_string += \"\"\";\n",
    "    rdfs:subClassOf :{0} \"\"\".format(superclass)\n",
    "    return(\"{0} .\".format(rdf_string))"
   ]
  },
  {
   "cell_type": "code",
   "execution_count": 127,
   "metadata": {
    "collapsed": true
   },
   "outputs": [],
   "source": [
    "rdf = mhdb.write_rdf.print_header(\n",
    "    \"http://mentalhealth.tech/core\",\n",
    "    \"0.0.2\",\n",
    "    \"neutral behaviors\",\n",
    "    \"core neutral behaviors\")\n",
    "\n",
    "for row in chart.iterrows():\n",
    "    if(row[1].Name in [\"Entity\", \"Attribute\"]):\n",
    "        supers = ([*[mhdb.spreadsheet_io.convert_string_to_label(\n",
    "            chart.loc[chart.index == x][\"Text Area 1\"].values[0]) for x in chart.loc[\n",
    "            (chart[\"Line Source\"] == row[1].name)\n",
    "             &\n",
    "             (chart[\"Source Arrow\"] == \"Arrow\")\n",
    "        ][\"Line Destination\"]], *[mhdb.spreadsheet_io.convert_string_to_label(\n",
    "            chart.loc[chart.index == x][\"Text Area 1\"].values[0]) for x in chart.loc[\n",
    "            (chart[\"Line Destination\"] == row[1].name)\n",
    "             &\n",
    "             (chart[\"Destination Arrow\"] == \"Arrow\")\n",
    "        ][\"Line Source\"]]])\n",
    "        rdf += rdfstring(row[1][\"Text Area 1\"], supers, row[1].Name)\n",
    "        \n",
    "with open(outfile, \"w\") as o:\n",
    "    o.write(rdf)"
   ]
  },
  {
   "cell_type": "code",
   "execution_count": null,
   "metadata": {
    "collapsed": true
   },
   "outputs": [],
   "source": []
  }
 ],
 "metadata": {
  "kernelspec": {
   "display_name": "Python [default]",
   "language": "python",
   "name": "python3"
  },
  "language_info": {
   "codemirror_mode": {
    "name": "ipython",
    "version": 3
   },
   "file_extension": ".py",
   "mimetype": "text/x-python",
   "name": "python",
   "nbconvert_exporter": "python",
   "pygments_lexer": "ipython3",
   "version": "3.5.2"
  }
 },
 "nbformat": 4,
 "nbformat_minor": 2
}
