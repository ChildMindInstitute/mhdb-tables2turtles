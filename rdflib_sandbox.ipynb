{
 "cells": [
  {
   "cell_type": "code",
   "execution_count": null,
   "metadata": {
    "collapsed": true
   },
   "outputs": [],
   "source": [
    "import pandas as pd\n",
    "import rdflib\n",
    "\n",
    "g = rdflib.ConjunctiveGraph()\n",
    "result = g.parse(\"mhdb/mhdb.ttl\", format='ttl')\n",
    "MESHg = rdflib.ConjunctiveGraph()\n",
    "MESH = MESHg.parse(\"mhdb/MESH.ttl\", format='ttl')"
   ]
  },
  {
   "cell_type": "code",
   "execution_count": null,
   "metadata": {
    "collapsed": true
   },
   "outputs": [],
   "source": [
    "g += MESHg"
   ]
  },
  {
   "cell_type": "code",
   "execution_count": null,
   "metadata": {
    "collapsed": true
   },
   "outputs": [],
   "source": [
    "for s, p, o in g:\n",
    "    print(\" \".join([s, p, o, \"\\n\"]))"
   ]
  },
  {
   "cell_type": "code",
   "execution_count": null,
   "metadata": {},
   "outputs": [],
   "source": [
    "qres =\"\"\"# \"What are all of the top-level mental disorders?\"\n",
    "PREFIX skos: <http://www.w3.org/2004/02/skos/core#>\n",
    "SELECT ?option ?subclass \n",
    "WHERE {\n",
    "  ?subclass rdfs:subClassOf* ?intermediate .\n",
    "  ?intermediate rdfs:subClassOf* :MentalDisorder .\n",
    "  ?subclass rdfs:label ?label .\n",
    "  OPTIONAL { ?label skos:prefLabel ?pl }\n",
    "  BIND ( IF ( !bound(?label), ?subclass, IF ( bound(?label), IF ( !bound(?pl), ?label, ?pl), '' ) ) AS ?option )\n",
    "}\n",
    "GROUP BY ?option ?subclass\n",
    "HAVING(count(?intermediate) = 2)\n",
    "ORDER BY ?option\"\"\"\n",
    "column_names = ['label', 'iri']\n",
    "sparql_result = g.query(qres)\n",
    "options = []\n",
    "for row in sparql_result:\n",
    "    options.append([row[0], row[1]])\n",
    "df = pd.DataFrame(options, columns=column_names)\n",
    "print(df)\n",
    "\n",
    "for key, value in df.iterrows():\n",
    "    print([value['label'], value['iri']])"
   ]
  },
  {
   "cell_type": "code",
   "execution_count": null,
   "metadata": {},
   "outputs": [],
   "source": [
    "qres2 = \"\"\"PREFIX : <http://www.purl.org/mentalhealth#>\n",
    "PREFIX rdf: <http://www.w3.org/1999/02/22-rdf-syntax-ns#>\n",
    "PREFIX owl: <http://www.w3.org/2002/07/owl#>\n",
    "PREFIX rdfs: <http://www.w3.org/2000/01/rdf-schema#>\n",
    "PREFIX xsd: <http://www.w3.org/2001/XMLSchema#>\n",
    "SELECT ?subject ?relationship ?object \n",
    "FROM <mhdb.ttl>\n",
    "FROM <http://data.bioontology.org/ontologies/MESH/submissions/13/download?apikey=8b5b7825-538d-40e0-9e9e-5ab9274a9aeb>\n",
    "WHERE {\n",
    "       { :Feeding_or_Eating_Disorder ?relationship ?object }\n",
    "       UNION\n",
    "       { ?subject ?relationship :Feeding_or_Eating_Disorder }\n",
    "       BIND ( IF ( bound(?subject), ?subject, :Feeding_or_Eating_Disorder ) AS ?subject )\n",
    "       BIND ( IF ( bound(?object), ?object, :Feeding_or_Eating_Disorder ) AS ?object )\n",
    "}\n",
    "        \"\"\"\n",
    "sparql_result = g.query(qres2)\n",
    "options = []\n",
    "for row in sparql_result:\n",
    "    options.append([[row[0]], [row[1]], [row[2]]])\n",
    "df = pd.DataFrame(options, columns=['subject', 'relationship', 'object'])\n",
    "print(df)"
   ]
  },
  {
   "cell_type": "code",
   "execution_count": null,
   "metadata": {
    "collapsed": true
   },
   "outputs": [],
   "source": []
  }
 ],
 "metadata": {
  "kernelspec": {
   "display_name": "Python [default]",
   "language": "python",
   "name": "python3"
  },
  "language_info": {
   "codemirror_mode": {
    "name": "ipython",
    "version": 3
   },
   "file_extension": ".py",
   "mimetype": "text/x-python",
   "name": "python",
   "nbconvert_exporter": "python",
   "pygments_lexer": "ipython3",
   "version": "3.5.2"
  }
 },
 "nbformat": 4,
 "nbformat_minor": 2
}
