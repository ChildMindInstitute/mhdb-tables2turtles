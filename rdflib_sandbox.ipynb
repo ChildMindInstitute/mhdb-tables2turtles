{
 "cells": [
  {
   "cell_type": "code",
   "execution_count": 31,
   "metadata": {},
   "outputs": [
    {
     "data": {
      "text/plain": [
       "<Graph identifier=http://data.bioontology.org/ontologies/MESH/download?apikey=cf2fc1a7-fd1f-48bd-aa9e-e56335ba7235&format=xml (<class 'rdflib.graph.Graph'>)>"
      ]
     },
     "execution_count": 31,
     "metadata": {},
     "output_type": "execute_result"
    }
   ],
   "source": [
    "import pandas as pd\n",
    "import rdflib\n",
    "\n",
    "g = rdflib.ConjunctiveGraph()\n",
    "g.parse(\"mhdb/mhdb.ttl\", format='ttl')\n",
    "g.parse(location=\n",
    "        (\"http://data.bioontology.org/ontologies/MESH/download?apikey=cf2fc1a7-fd1f-48bd-aa9e-e56335ba7235&\"\n",
    "        \"format=xml\"), format='ttl')"
   ]
  },
  {
   "cell_type": "code",
   "execution_count": 33,
   "metadata": {},
   "outputs": [
    {
     "data": {
      "text/plain": [
       "rdflib.graph.ConjunctiveGraph"
      ]
     },
     "execution_count": 33,
     "metadata": {},
     "output_type": "execute_result"
    }
   ],
   "source": [
    "type(g)"
   ]
  },
  {
   "cell_type": "code",
   "execution_count": null,
   "metadata": {
    "collapsed": true
   },
   "outputs": [],
   "source": [
    "for s, p, o in g:\n",
    "    print(\" \".join([s, p, o, \"\\n\"]))"
   ]
  },
  {
   "cell_type": "code",
   "execution_count": 73,
   "metadata": {},
   "outputs": [
    {
     "name": "stdout",
     "output_type": "stream",
     "text": [
      "                                                label  \\\n",
      "0                                    Anxiety Disorder   \n",
      "1                         Bipolar or Related Disorder   \n",
      "2                                 Depressive Disorder   \n",
      "3    Disruptive, Impulse-Control, or Conduct Disorder   \n",
      "4                               Dissociative Disorder   \n",
      "19                              Elimination Disorders   \n",
      "20                       Feeding and Eating Disorders   \n",
      "5                                    Gender Dysphoria   \n",
      "6   Medication-Induced Movement Disorder or Other ...   \n",
      "7                             Neurocognitive Disorder   \n",
      "8            Obsessive-Compulsive or Related Disorder   \n",
      "9   Other Conditions That May Be a Focus of Clinic...   \n",
      "10                              Other Mental Disorder   \n",
      "11                                Paraphilic Disorder   \n",
      "12                               Personality Disorder   \n",
      "13  Schizophrenia Spectrum and Other Psychotic Dis...   \n",
      "14                                 Sexual Dysfunction   \n",
      "15                                Sleep-Wake Disorder   \n",
      "16                Somatic Symptom or Related Disorder   \n",
      "17            Substance-Related or Addictive Disorder   \n",
      "18               Trauma- or Stressor-Related Disorder   \n",
      "\n",
      "                                                  iri  \n",
      "0   http://www.purl.org/mentalhealth#Anxiety_Disorder  \n",
      "1   http://www.purl.org/mentalhealth#Bipolar_or_Re...  \n",
      "2   http://www.purl.org/mentalhealth#Depressive_Di...  \n",
      "3   http://www.purl.org/mentalhealth#Disruptive_Im...  \n",
      "4   http://www.purl.org/mentalhealth#Dissociative_...  \n",
      "19  http://www.purl.org/mentalhealth#Elimination_D...  \n",
      "20  http://www.purl.org/mentalhealth#Feeding_or_Ea...  \n",
      "5   http://www.purl.org/mentalhealth#Gender_Dysphoria  \n",
      "6   http://www.purl.org/mentalhealth#Medication-In...  \n",
      "7   http://www.purl.org/mentalhealth#Neurocognitiv...  \n",
      "8   http://www.purl.org/mentalhealth#Obsessive-Com...  \n",
      "9   http://www.purl.org/mentalhealth#Other_Conditi...  \n",
      "10  http://www.purl.org/mentalhealth#Other_Mental_...  \n",
      "11  http://www.purl.org/mentalhealth#Paraphilic_Di...  \n",
      "12  http://www.purl.org/mentalhealth#Personality_D...  \n",
      "13  http://www.purl.org/mentalhealth#Schizophrenia...  \n",
      "14  http://www.purl.org/mentalhealth#Sexual_Dysfun...  \n",
      "15  http://www.purl.org/mentalhealth#Sleep-Wake_Di...  \n",
      "16  http://www.purl.org/mentalhealth#Somatic_Sympt...  \n",
      "17  http://www.purl.org/mentalhealth#Substance-Rel...  \n",
      "18  http://www.purl.org/mentalhealth#Trauma-_or_St...  \n",
      "[<class 'str'>, rdflib.term.URIRef('http://www.purl.org/mentalhealth#Anxiety_Disorder')]\n",
      "[<class 'str'>, rdflib.term.URIRef('http://www.purl.org/mentalhealth#Bipolar_or_Related_Disorder')]\n",
      "[<class 'str'>, rdflib.term.URIRef('http://www.purl.org/mentalhealth#Depressive_Disorder')]\n",
      "[<class 'str'>, rdflib.term.URIRef('http://www.purl.org/mentalhealth#Disruptive_Impulse-Control_or_Conduct_Disorder')]\n",
      "[<class 'str'>, rdflib.term.URIRef('http://www.purl.org/mentalhealth#Dissociative_Disorder')]\n",
      "[<class 'str'>, rdflib.term.URIRef('http://www.purl.org/mentalhealth#Elimination_Disorder')]\n",
      "[<class 'str'>, rdflib.term.URIRef('http://www.purl.org/mentalhealth#Feeding_or_Eating_Disorder')]\n",
      "[<class 'str'>, rdflib.term.URIRef('http://www.purl.org/mentalhealth#Gender_Dysphoria')]\n",
      "[<class 'str'>, rdflib.term.URIRef('http://www.purl.org/mentalhealth#Medication-Induced_Movement_Disorder_or_Other_Adverse_Effects_of_Medication')]\n",
      "[<class 'str'>, rdflib.term.URIRef('http://www.purl.org/mentalhealth#Neurocognitive_Disorder')]\n",
      "[<class 'str'>, rdflib.term.URIRef('http://www.purl.org/mentalhealth#Obsessive-Compulsive_or_Related_Disorder')]\n",
      "[<class 'str'>, rdflib.term.URIRef('http://www.purl.org/mentalhealth#Other_Conditions_That_May_Be_a_Focus_of_Clinical_Attention')]\n",
      "[<class 'str'>, rdflib.term.URIRef('http://www.purl.org/mentalhealth#Other_Mental_Disorder')]\n",
      "[<class 'str'>, rdflib.term.URIRef('http://www.purl.org/mentalhealth#Paraphilic_Disorder')]\n",
      "[<class 'str'>, rdflib.term.URIRef('http://www.purl.org/mentalhealth#Personality_Disorder')]\n",
      "[<class 'str'>, rdflib.term.URIRef('http://www.purl.org/mentalhealth#Schizophrenia_Spectrum_and_Other_Psychotic_Disorders')]\n",
      "[<class 'str'>, rdflib.term.URIRef('http://www.purl.org/mentalhealth#Sexual_Dysfunction')]\n",
      "[<class 'str'>, rdflib.term.URIRef('http://www.purl.org/mentalhealth#Sleep-Wake_Disorder')]\n",
      "[<class 'str'>, rdflib.term.URIRef('http://www.purl.org/mentalhealth#Somatic_Symptom_or_Related_Disorder')]\n",
      "[<class 'str'>, rdflib.term.URIRef('http://www.purl.org/mentalhealth#Substance-Related_or_Addictive_Disorder')]\n",
      "[<class 'str'>, rdflib.term.URIRef('http://www.purl.org/mentalhealth#Trauma-_or_Stressor-Related_Disorder')]\n"
     ]
    }
   ],
   "source": [
    "qres =\"\"\"# \"What are all of the top-level mental disorders?\"\n",
    "PREFIX skos: <http://www.w3.org/2004/02/skos/core#>\n",
    "SELECT ?option ?subclass \n",
    "WHERE {\n",
    "    { SELECT ?label ?pl ?subclass\n",
    "    WHERE {\n",
    "      ?subclass rdfs:subClassOf* ?intermediate .\n",
    "      ?intermediate rdfs:subClassOf* :MentalDisorder .\n",
    "      ?subclass rdfs:label ?label .\n",
    "      OPTIONAL { ?label skos:prefLabel ?pl }\n",
    "    }\n",
    "    GROUP BY ?label ?subclass\n",
    "    HAVING(count(?intermediate) = 2)\n",
    "    }\n",
    "    BIND ( IF ( !bound(?label), ?subclass, IF ( bound(?label), IF ( !bound(?pl), ?label, ?pl), '' ) ) AS ?option )\n",
    "    }\n",
    "GROUP BY ?subclass\n",
    "ORDER BY ?option\"\"\"\n",
    "column_names = ['label', 'iri']\n",
    "sparql_result = g.query(qres)\n",
    "options = []\n",
    "for row in sparql_result:\n",
    "    options.append([str(row[0]), row[1]])\n",
    "df = pd.DataFrame(options, columns=column_names)\n",
    "df.sort_values(by=['label'], axis=0, inplace=True)\n",
    "print(df)\n",
    "\n",
    "for key, value in df.iterrows():\n",
    "    print([type(value['label']), value['iri']])"
   ]
  },
  {
   "cell_type": "code",
   "execution_count": 74,
   "metadata": {
    "collapsed": true
   },
   "outputs": [],
   "source": [
    "p = [(1, 2), 1]"
   ]
  },
  {
   "cell_type": "code",
   "execution_count": 136,
   "metadata": {},
   "outputs": [
    {
     "name": "stdout",
     "output_type": "stream",
     "text": [
      "['label', 'i']\n",
      "[[\"str('Anxiety Disorder')\", \"r('http://www.purl.org/mentalhealth#Anxiety_Disorder')\"], [\"str('Bipolar or Related Disorder')\", \"r('http://www.purl.org/mentalhealth#Bipolar_or_Related_Disorder')\"], [\"str('Depressive Disorder')\", \"r('http://www.purl.org/mentalhealth#Depressive_Disorder')\"], [\"str('Disruptive, Impulse-Control, or Conduct Disorder')\", \"r('http://www.purl.org/mentalhealth#Disruptive_Impulse-Control_or_Conduct_Disorder')\"], [\"str('Dissociative Disorder')\", \"r('http://www.purl.org/mentalhealth#Dissociative_Disorder')\"], [\"str('Gender Dysphoria')\", \"r('http://www.purl.org/mentalhealth#Gender_Dysphoria')\"], [\"str('Medication-Induced Movement Disorder or Other Adverse Effects of Medication')\", \"r('http://www.purl.org/mentalhealth#Medication-Induced_Movement_Disorder_or_Other_Adverse_Effects_of_Medication')\"], [\"str('Neurocognitive Disorder')\", \"r('http://www.purl.org/mentalhealth#Neurocognitive_Disorder')\"], [\"str('Obsessive-Compulsive or Related Disorder')\", \"r('http://www.purl.org/mentalhealth#Obsessive-Compulsive_or_Related_Disorder')\"], [\"str('Other Conditions That May Be a Focus of Clinical Attention')\", \"r('http://www.purl.org/mentalhealth#Other_Conditions_That_May_Be_a_Focus_of_Clinical_Attention')\"], [\"str('Other Mental Disorder')\", \"r('http://www.purl.org/mentalhealth#Other_Mental_Disorder')\"], [\"str('Paraphilic Disorder')\", \"r('http://www.purl.org/mentalhealth#Paraphilic_Disorder')\"], [\"str('Personality Disorder')\", \"r('http://www.purl.org/mentalhealth#Personality_Disorder')\"], [\"str('Schizophrenia Spectrum and Other Psychotic Disorders')\", \"r('http://www.purl.org/mentalhealth#Schizophrenia_Spectrum_and_Other_Psychotic_Disorders')\"], [\"str('Sexual Dysfunction')\", \"r('http://www.purl.org/mentalhealth#Sexual_Dysfunction')\"], [\"str('Sleep-Wake Disorder')\", \"r('http://www.purl.org/mentalhealth#Sleep-Wake_Disorder')\"], [\"str('Somatic Symptom or Related Disorder')\", \"r('http://www.purl.org/mentalhealth#Somatic_Symptom_or_Related_Disorder')\"], [\"str('Substance-Related or Addictive Disorder')\", \"r('http://www.purl.org/mentalhealth#Substance-Related_or_Addictive_Disorder')\"], [\"str('Trauma- or Stressor-Related Disorder')\", \"r('http://www.purl.org/mentalhealth#Trauma-_or_Stressor-Related_Disorder')\"], [\"str('Elimination Disorders')\", \"r('http://www.purl.org/mentalhealth#Elimination_Disorder')\"], [\"str('Feeding and Eating Disorders')\", \"r('http://www.purl.org/mentalhealth#Feeding_or_Eating_Disorder')\"]]\n"
     ]
    }
   ],
   "source": [
    "column_names = [('label', 'str'), 'iri']\n",
    "cnames = [c[0] if hasattr(c, '__iter__') else c for c in column_names]\n",
    "print(cnames)\n",
    "options = []\n",
    "for row in sparql_result:\n",
    "    options.append([\"\".join([column_names[i][1],\"('\",r,\"')\"]) if hasattr(column_names[i],\n",
    "                    '__iter__') else r for i, r in enumerate(row)])\n",
    "print(options)"
   ]
  },
  {
   "cell_type": "code",
   "execution_count": 128,
   "metadata": {},
   "outputs": [
    {
     "data": {
      "text/plain": [
       "'1'"
      ]
     },
     "execution_count": 128,
     "metadata": {},
     "output_type": "execute_result"
    }
   ],
   "source": [
    "eval('str(1)')"
   ]
  },
  {
   "cell_type": "code",
   "execution_count": 64,
   "metadata": {},
   "outputs": [
    {
     "name": "stdout",
     "output_type": "stream",
     "text": [
      "                                              subject  \\\n",
      "0   [http://www.purl.org/mentalhealth#Feeding_or_E...   \n",
      "1   [http://www.purl.org/mentalhealth#Feeding_or_E...   \n",
      "2   [http://www.purl.org/mentalhealth#Feeding_or_E...   \n",
      "3   [http://www.purl.org/mentalhealth#Feeding_or_E...   \n",
      "4   [http://www.purl.org/mentalhealth#Feeding_or_E...   \n",
      "5   [http://www.purl.org/mentalhealth#Other_Specif...   \n",
      "6   [http://www.purl.org/mentalhealth#AvoidantRest...   \n",
      "7   [http://www.purl.org/mentalhealth#Binge-Eating...   \n",
      "8   [http://www.purl.org/mentalhealth#Anorexia_Ner...   \n",
      "9   [http://www.purl.org/mentalhealth#Rumination_D...   \n",
      "10            [http://www.purl.org/mentalhealth#Pica]   \n",
      "11  [http://www.purl.org/mentalhealth#Bulimia_Nerv...   \n",
      "12  [http://www.purl.org/mentalhealth#Unspecified_...   \n",
      "\n",
      "                                         relationship  \\\n",
      "0   [http://www.w3.org/1999/02/22-rdf-syntax-ns#type]   \n",
      "1        [http://www.w3.org/2000/01/rdf-schema#label]   \n",
      "2        [http://www.w3.org/2000/01/rdf-schema#label]   \n",
      "3   [http://www.w3.org/2000/01/rdf-schema#subClassOf]   \n",
      "4     [http://www.w3.org/2002/07/owl#equivalentClass]   \n",
      "5   [http://www.w3.org/2000/01/rdf-schema#subClassOf]   \n",
      "6   [http://www.w3.org/2000/01/rdf-schema#subClassOf]   \n",
      "7   [http://www.w3.org/2000/01/rdf-schema#subClassOf]   \n",
      "8   [http://www.w3.org/2000/01/rdf-schema#subClassOf]   \n",
      "9   [http://www.w3.org/2000/01/rdf-schema#subClassOf]   \n",
      "10  [http://www.w3.org/2000/01/rdf-schema#subClassOf]   \n",
      "11  [http://www.w3.org/2000/01/rdf-schema#subClassOf]   \n",
      "12  [http://www.w3.org/2000/01/rdf-schema#subClassOf]   \n",
      "\n",
      "                                               object  \n",
      "0               [http://www.w3.org/2002/07/owl#Class]  \n",
      "1   [http://purl.bioontology.org/ontology/MESH/D00...  \n",
      "2                        [Feeding or Eating Disorder]  \n",
      "3   [http://www.purl.org/mentalhealth#MentalDisorder]  \n",
      "4       [http://purl.obolibrary.org/obo/MESH_D001068]  \n",
      "5   [http://www.purl.org/mentalhealth#Feeding_or_E...  \n",
      "6   [http://www.purl.org/mentalhealth#Feeding_or_E...  \n",
      "7   [http://www.purl.org/mentalhealth#Feeding_or_E...  \n",
      "8   [http://www.purl.org/mentalhealth#Feeding_or_E...  \n",
      "9   [http://www.purl.org/mentalhealth#Feeding_or_E...  \n",
      "10  [http://www.purl.org/mentalhealth#Feeding_or_E...  \n",
      "11  [http://www.purl.org/mentalhealth#Feeding_or_E...  \n",
      "12  [http://www.purl.org/mentalhealth#Feeding_or_E...  \n"
     ]
    }
   ],
   "source": [
    "qres2 = \"\"\"PREFIX : <http://www.purl.org/mentalhealth#>\n",
    "PREFIX rdf: <http://www.w3.org/1999/02/22-rdf-syntax-ns#>\n",
    "PREFIX owl: <http://www.w3.org/2002/07/owl#>\n",
    "PREFIX rdfs: <http://www.w3.org/2000/01/rdf-schema#>\n",
    "PREFIX xsd: <http://www.w3.org/2001/XMLSchema#>\n",
    "SELECT ?subject ?relationship ?object \n",
    "WHERE {\n",
    "       { :Feeding_or_Eating_Disorder ?relationship ?object }\n",
    "       UNION\n",
    "       { ?subject ?relationship :Feeding_or_Eating_Disorder }\n",
    "       BIND ( IF ( bound(?subject), ?subject, :Feeding_or_Eating_Disorder ) AS ?subject )\n",
    "       BIND ( IF ( bound(?object), ?object, :Feeding_or_Eating_Disorder ) AS ?object )\n",
    "}\n",
    "        \"\"\"\n",
    "sparql_result = g.query(qres2)\n",
    "options = []\n",
    "for row in sparql_result:\n",
    "    options.append([[row[0]], [row[1]], [row[2]]])\n",
    "df = pd.DataFrame(options, columns=['subject', 'relationship', 'object'])\n",
    "print(df)"
   ]
  },
  {
   "cell_type": "code",
   "execution_count": null,
   "metadata": {
    "collapsed": true
   },
   "outputs": [],
   "source": []
  }
 ],
 "metadata": {
  "kernelspec": {
   "display_name": "Python [default]",
   "language": "python",
   "name": "python3"
  },
  "language_info": {
   "codemirror_mode": {
    "name": "ipython",
    "version": 3
   },
   "file_extension": ".py",
   "mimetype": "text/x-python",
   "name": "python",
   "nbconvert_exporter": "python",
   "pygments_lexer": "ipython3",
   "version": "3.5.2"
  }
 },
 "nbformat": 4,
 "nbformat_minor": 2
}
